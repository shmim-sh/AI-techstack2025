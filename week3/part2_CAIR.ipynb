{
  "cells": [
    {
      "cell_type": "markdown",
      "metadata": {
        "id": "87bnEXpGnndY"
      },
      "source": [
        "# Content-Aware Image Retargeting\n",
        "Reduce the width of images (`Baby.png`, `Diana.png`, `Snowman.png`) by `seams_number` columns using Seam Carving, implemented from scratch. Optionally use depth/saliency maps or other energy functions. Visualize seams if enabled."
      ]
    },
    {
      "cell_type": "code",
      "execution_count": 105,
      "metadata": {
        "id": "-bnvWRCQnndb"
      },
      "outputs": [],
      "source": [
        "import cv2\n",
        "import numpy as np\n",
        "import matplotlib.pyplot as plt"
      ]
    },
    {
      "cell_type": "code",
      "source": [
        "def seam_carving(image, seams_number, depth_map=None, saliency_map=None, visualize=False):\n",
        "    \"\"\"Perform Seam Carving to reduce image width by seams_number columns.\n",
        "\n",
        "    Args:\n",
        "        image: Input image (H, W, 3) as float32 in [0, 1].\n",
        "        seams_number: Number of vertical seams to remove.\n",
        "        depth_map: Optional depth map (H, W) as float32.\n",
        "        saliency_map: Optional saliency map (H, W) as float32.\n",
        "        visualize: If True, display seams during processing.\n",
        "\n",
        "    Returns:\n",
        "        resized_image: Image with reduced width.\n",
        "        seam_energies: List of cumulative energies of removed seams.\n",
        "    \"\"\"\n",
        "    # TODO: Implement Seam Carving from scratch\n",
        "    # 1. Compute energy map (e.g., gradient, depth, or saliency-based)\n",
        "    seam_energies = []\n",
        "    for index in range(seams_number):\n",
        "        gray = cv2.cvtColor(image, cv2.COLOR_BGR2GRAY)\n",
        "        energy = np.abs(cv2.Sobel(gray, cv2.CV_64F, 1, 0, ksize=3)) + np.abs(cv2.Sobel(gray, cv2.CV_64F, 0, 1, ksize=3))\n",
        "        if depth_map is not None:\n",
        "            depth_resized = cv2.resize(depth_map, (energy.shape[1], energy.shape[0]))\n",
        "            energy += depth_resized * 5.0\n",
        "        if saliency_map is not None:\n",
        "            saliency_resized = cv2.resize(saliency_map, (energy.shape[1], energy.shape[0]))\n",
        "            energy += saliency_resized * 10.0\n",
        "    # 2. Find lowest-energy vertical seam using dynamic programming\n",
        "        h, w = energy.shape\n",
        "        dp = energy.copy()\n",
        "        path = np.zeros_like(dp, dtype=np.int32)\n",
        "        for i in range(1, h):\n",
        "            for j in range(0, w):\n",
        "              min_value = dp[i-1, j]\n",
        "              min_index = j\n",
        "              if(j-1 >= 0 and min_value > dp[i-1, j-1]):\n",
        "                min_value = dp[i-1, j-1]\n",
        "                min_index = j-1\n",
        "              if(j+1 < w and min_value > dp[i-1, j+1]):\n",
        "                min_value=dp[i-1, j+1]\n",
        "                min_index = j+1\n",
        "              dp[i, j] += min_value\n",
        "              path[i, j] = min_index\n",
        "        seam = []\n",
        "        j = np.argmin(dp[-1])\n",
        "        seam.append(j)\n",
        "        total_energy = dp[-1, j]\n",
        "        for i in range(h-1, 0, -1):\n",
        "            j = path[i, j]\n",
        "            seam.append(j)\n",
        "            total_energy += energy[i, j]\n",
        "        seam.reverse()\n",
        "        seam_energies.append(total_energy)\n",
        "    # 3. Remove seam and update image\n",
        "        h, w, c = image.shape\n",
        "        new_img = np.zeros((h, w-1, c), dtype=np.float32)\n",
        "        for i in range(h):\n",
        "            j_seam = seam[i]\n",
        "            new_img[i, :, :] = np.concatenate([image[i, :j_seam, :], image[i, j_seam+1:, :]], axis=0)\n",
        "        image = new_img\n",
        "    # 4. Repeat for seams_number iterations\n",
        "    # 5. Visualize seams if flag enabled\n",
        "        if visualize:\n",
        "            img = image.copy()\n",
        "            for i in range(h):\n",
        "                img[i, seam[i]] = [1.0, 0.0, 0.0]\n",
        "            plt.imshow(cv2.cvtColor(img, cv2.COLOR_BGR2RGB))\n",
        "            plt.title(f'Seam :{index}')\n",
        "            plt.axis('off')\n",
        "            plt.show()\n",
        "    return image, seam_energies"
      ],
      "metadata": {
        "id": "M_F5eDQF4Vlk"
      },
      "execution_count": 106,
      "outputs": []
    },
    {
      "cell_type": "code",
      "execution_count": 107,
      "metadata": {
        "id": "8XF-elP_nnde"
      },
      "outputs": [],
      "source": [
        "# Load images and maps\n",
        "baby_path = './images_CAIR/Baby.png'\n",
        "baby_dmap_path = './images_CAIR/Baby_DMap.png'\n",
        "baby_smap_path = './images_CAIR/Baby_SMap.png'\n",
        "\n",
        "baby = cv2.imread(baby_path).astype(np.float32) / 255.0\n",
        "baby_dmap = cv2.imread(baby_dmap_path, cv2.IMREAD_GRAYSCALE).astype(np.float32) / 255.0\n",
        "baby_smap = cv2.imread(baby_smap_path, cv2.IMREAD_GRAYSCALE).astype(np.float32) / 255.0\n",
        "\n",
        "# Parameters\n",
        "seams_number = 100\n",
        "visualize = True"
      ]
    },
    {
      "cell_type": "code",
      "execution_count": null,
      "metadata": {
        "id": "x18DUS6Qnndf"
      },
      "outputs": [],
      "source": [
        "# Process images\n",
        "baby_resized, baby_energies = seam_carving(baby, seams_number, baby_dmap, baby_smap, visualize)\n",
        "\n",
        "# Save seam energies\n",
        "with open('seam_energy_log.txt', 'w') as f:\n",
        "    f.write('Baby Seam Energies:\\n' + '\\n'.join(map(str, baby_energies)) + '\\n')\n",
        "\n",
        "# Visualize results\n",
        "plt.imshow(cv2.cvtColor(baby_resized, cv2.COLOR_BGR2RGB))\n",
        "plt.title('Baby Resized')\n",
        "plt.axis('off')\n",
        "plt.show()\n",
        "\n",
        "# Save resized images\n",
        "cv2.imwrite('Baby_resized.png', (baby_resized * 255).astype(np.uint8))"
      ]
    }
  ],
  "metadata": {
    "kernelspec": {
      "display_name": "Python 3",
      "name": "python3"
    },
    "language_info": {
      "codemirror_mode": {
        "name": "ipython",
        "version": 3
      },
      "file_extension": ".py",
      "mimetype": "text/x-python",
      "name": "python",
      "nbconvert_exporter": "python",
      "pygments_lexer": "ipython3",
      "version": "3.8.10"
    },
    "colab": {
      "provenance": [],
      "gpuType": "T4"
    },
    "accelerator": "GPU"
  },
  "nbformat": 4,
  "nbformat_minor": 0
}