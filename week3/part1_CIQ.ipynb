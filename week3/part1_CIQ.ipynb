{
  "cells": [
    {
      "cell_type": "markdown",
      "metadata": {
        "id": "I2pRQVofBzxc"
      },
      "source": [
        "# Color Image Quantization\n",
        "Reduce the number of colors in images (`lena.png`, `peppers.tif`) to 16 using K-means clustering, implemented from scratch. Log L2 norms per iteration and optionally visualize quantized images."
      ]
    },
    {
      "cell_type": "code",
      "execution_count": null,
      "metadata": {
        "id": "0qZikuQYBzxf"
      },
      "outputs": [],
      "source": [
        "import cv2\n",
        "import numpy as np\n",
        "import matplotlib.pyplot as plt"
      ]
    },
    {
      "cell_type": "code",
      "execution_count": 96,
      "metadata": {
        "id": "mgV8OyKeBzxh"
      },
      "outputs": [],
      "source": [
        "def kmeans_quantization(image, k=16, max_iterations=100, visualize=True):\n",
        "    \"\"\"Perform K-means color quantization on an image.\n",
        "\n",
        "    Args:\n",
        "        image: Input image (H, W, 3) as float32 in [0, 1].\n",
        "        k: Number of clusters (colors).\n",
        "        max_iterations: Maximum number of iterations.\n",
        "        visualize: If True, display quantized image per iteration.\n",
        "\n",
        "    Returns:\n",
        "        quantized_image: Image with k colors.\n",
        "        l2_norms: List of L2 norms per iteration.\n",
        "    \"\"\"\n",
        "    # TODO: Implement K-means clustering from scratch\n",
        "    # 1. Reshape image to list of pixels (N, 3)\n",
        "    pixels = image.reshape(-1, 3)\n",
        "    N = pixels.shape[0]\n",
        "    H, W = image.shape[:2]\n",
        "    l2_norms = []\n",
        "    distances = np.zeros((N, k))\n",
        "    # 2. Initialize k centroids randomly\n",
        "    centroids=pixels[np.random.choice(N, k, replace=False)].copy()\n",
        "    new_centroids = centroids.copy()\n",
        "    # 3. Assign pixels to nearest centroid (L2 norm)\n",
        "    for i in range(max_iterations):\n",
        "      for j in range(k):\n",
        "        distances[: ,j] = np.sqrt((pixels[:, 0]-centroids[j, 0])**2+(pixels[:, 1]-centroids[j, 1])**2+(pixels[:, 2]-centroids[j, 2])**2)\n",
        "      Assigned_pixels = np.argmin(distances, axis=1)\n",
        "    # 4. Update centroids as mean of assigned pixels\n",
        "      for j in range(k):\n",
        "        new_centroids[j] = np.mean(pixels[Assigned_pixels == j], axis=0)\n",
        "      if np.allclose(centroids, new_centroids):\n",
        "        break\n",
        "      centroids = new_centroids.copy()\n",
        "    # 5. Log L2 norm per iteration\n",
        "      L2_norm = 0.0\n",
        "      for j in range(N):\n",
        "          L2_norm += (pixels[j, 0] - centroids[Assigned_pixels[j], 0])**2 + (pixels[j, 1] - centroids[Assigned_pixels[j], 1])**2 + (pixels[j, 2] - centroids[Assigned_pixels[j], 2])**2\n",
        "\n",
        "      l2 = np.sqrt(L2_norm)\n",
        "      l2_norms.append(l2)\n",
        "    # 6. Visualize if flag is enabled\n",
        "      if visualize:\n",
        "        quantized = centroids[Assigned_pixels].reshape(H, W, 3)\n",
        "        plt.imshow(cv2.cvtColor(quantized, cv2.COLOR_BGR2RGB))\n",
        "        plt.title(f'Iteration:{i+1},L2:{l2:.2f}')\n",
        "        plt.axis('off')\n",
        "        plt.show()\n",
        "    final_quantized = centroids[Assigned_pixels].reshape(H, W, 3)\n",
        "    return final_quantized, l2_norms"
      ]
    },
    {
      "cell_type": "code",
      "execution_count": 97,
      "metadata": {
        "id": "KC8c3AH2Bzxi"
      },
      "outputs": [],
      "source": [
        "def calculate_l2_norm(original, quantized):\n",
        "    \"\"\"Calculate total L2 norm between original and quantized images.\n",
        "\n",
        "    Args:\n",
        "        original: Original image (H, W, 3) as float32 in [0, 1].\n",
        "        quantized: Quantized image (H, W, 3) as float32 in [0, 1].\n",
        "\n",
        "    Returns:\n",
        "        l2_norm: Total L2 norm across all pixels.\n",
        "    \"\"\"\n",
        "    # TODO: Compute L2 norm: sqrt(sum((R1-R2)^2 + (G1-G2)^2 + (B1-B2)^2))\n",
        "    l2_norm = np.sqrt(np.sum((original - quantized)**2))\n",
        "    return l2_norm\n"
      ]
    },
    {
      "cell_type": "code",
      "execution_count": 98,
      "metadata": {
        "id": "cDGggvvhBzxj"
      },
      "outputs": [],
      "source": [
        "# Load images\n",
        "lena_path = './images_CIQ/lena.png'\n",
        "\n",
        "lena = cv2.imread(lena_path).astype(np.float32) / 255.0\n",
        "\n",
        "# Parameters\n",
        "k = 16\n",
        "max_iterations = 100\n",
        "visualize = True"
      ]
    },
    {
      "cell_type": "code",
      "execution_count": null,
      "metadata": {
        "id": "LWilkDB-Bzxj"
      },
      "outputs": [],
      "source": [
        "# Process images\n",
        "lena_quantized, lena_l2_norms = kmeans_quantization(lena, k, max_iterations, visualize)\n",
        "\n",
        "# Save L2 norms\n",
        "with open('L2_norm_log.txt', 'w') as f:\n",
        "    f.write('Lena L2 Norms:\\n' + '\\n'.join(map(str, lena_l2_norms)) + '\\n')\n",
        "\n",
        "# Calculate final L2 norms\n",
        "lena_l2 = calculate_l2_norm(lena, lena_quantized)\n",
        "\n",
        "# Visualize results\n",
        "plt.imshow(cv2.cvtColor(lena_quantized, cv2.COLOR_BGR2RGB))\n",
        "plt.title('Lena Quantized')\n",
        "plt.axis('off')\n",
        "plt.show()\n",
        "\n",
        "print(f'Total L2 Norm: {lena_l2:.2f}')\n",
        "\n",
        "# Save quantized images\n",
        "cv2.imwrite('lena_quantized.png', (lena_quantized * 255).astype(np.uint8))"
      ]
    }
  ],
  "metadata": {
    "accelerator": "GPU",
    "colab": {
      "gpuType": "T4",
      "provenance": []
    },
    "kernelspec": {
      "display_name": "Python 3",
      "name": "python3"
    },
    "language_info": {
      "codemirror_mode": {
        "name": "ipython",
        "version": 3
      },
      "file_extension": ".py",
      "mimetype": "text/x-python",
      "name": "python",
      "nbconvert_exporter": "python",
      "pygments_lexer": "ipython3",
      "version": "3.8.10"
    }
  },
  "nbformat": 4,
  "nbformat_minor": 0
}